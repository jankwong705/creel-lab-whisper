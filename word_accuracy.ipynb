{
 "cells": [
  {
   "cell_type": "code",
   "execution_count": 407,
   "metadata": {},
   "outputs": [],
   "source": [
    "import pandas as pd\n",
    "import numpy as np\n",
    "import string\n",
    "import csv\n",
    "from jiwer import wer \n"
   ]
  },
  {
   "cell_type": "code",
   "execution_count": null,
   "metadata": {},
   "outputs": [],
   "source": []
  },
  {
   "cell_type": "code",
   "execution_count": 408,
   "metadata": {},
   "outputs": [],
   "source": [
    "def calculate(results, output_file):\n",
    "\n",
    "    # read csv files \n",
    "    df = pd.read_csv(results)\n",
    "    df = df.drop(0)                       # drop the separator row\n",
    "    expected = np.array(df['Actual'])     # columns of actual sentences\n",
    "    produced = np.array(df['Predicted'])  # columns of whisper-produced sentences\n",
    "\n",
    "    # convert to all lower cases\n",
    "    expected = np.array([string.lower() for string in expected])\n",
    "    produced = np.array([string.lower() for string in produced])\n",
    "\n",
    "    # remove all puncutations\n",
    "    translator = str.maketrans('', '', string.punctuation)\n",
    "    expected = np.array([string.translate(translator) for string in expected])\n",
    "    produced = np.array([string.translate(translator) for string in produced])\n",
    "\n",
    "    # compute wer\n",
    "    wer_s = np.array([wer(e, p) for e, p in zip(expected, produced)])\n",
    "\n",
    "    # add WER to the csv file \n",
    "    df['WER'] = wer_s\n",
    "    print(df)\n",
    "\n",
    "    # output to output_file \n",
    "    df.to_csv(output_file, index=False)\n",
    "\n"
   ]
  },
  {
   "cell_type": "code",
   "execution_count": 409,
   "metadata": {},
   "outputs": [
    {
     "name": "stdout",
     "output_type": "stream",
     "text": [
      "                          File Actual    Predicted  WER\n",
      "1    APDYM4participant_gum.wav    gum   Thank you.  2.0\n",
      "2    APEDI2participant_gum.wav    gum        Come.  1.0\n",
      "3    APCHO6participant_gum.wav    gum        Calm.  1.0\n",
      "4    APDMN7participant_gum.wav    gum        Come.  1.0\n",
      "5    APFAN8participant_gum.wav    gum        Come.  1.0\n",
      "..                         ...    ...          ...  ...\n",
      "77   APDYO5participant_gum.wav    gum   Thank you.  2.0\n",
      "78  APssss1participant_gum.wav   _gum         gum.  0.0\n",
      "79   APEDJ3participant_gum.wav    gum        Come.  1.0\n",
      "80   APDIO3participant_gum.wav    gum         gum.  0.0\n",
      "81   APIDM8participant_gum.wav    gum  Don't know.  2.0\n",
      "\n",
      "[81 rows x 4 columns]\n"
     ]
    }
   ],
   "source": [
    "calculate(\"test.csv\", \"test_output.csv\")"
   ]
  }
 ],
 "metadata": {
  "kernelspec": {
   "display_name": "Python 3",
   "language": "python",
   "name": "python3"
  },
  "language_info": {
   "codemirror_mode": {
    "name": "ipython",
    "version": 3
   },
   "file_extension": ".py",
   "mimetype": "text/x-python",
   "name": "python",
   "nbconvert_exporter": "python",
   "pygments_lexer": "ipython3",
   "version": "3.10.1"
  }
 },
 "nbformat": 4,
 "nbformat_minor": 2
}
