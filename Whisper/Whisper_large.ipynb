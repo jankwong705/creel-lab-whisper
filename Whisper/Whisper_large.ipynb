{
 "cells": [
  {
   "cell_type": "code",
   "execution_count": 1,
   "id": "45daa860",
   "metadata": {},
   "outputs": [
    {
     "name": "stdout",
     "output_type": "stream",
     "text": [
      "Modified Mel dimensions: torch.Size([1, 128, 3000])\n",
      "Detected language: en\n"
     ]
    }
   ],
   "source": [
    "import whisper\n",
    "\n",
    "# Load the model\n",
    "model = whisper.load_model(\"large\")\n",
    "\n",
    "# Load audio and preprocess\n",
    "audio = whisper.load_audio(\"Andrew.mp3\") #for testing, use local files \n",
    "audio = whisper.pad_or_trim(audio)\n",
    "\n",
    "# Generate mel spectrogram with the correct number of channels (128)\n",
    "mel = whisper.log_mel_spectrogram(audio, n_mels=128).to(model.device)\n",
    "\n",
    "# Remove unnecessary singleton dimensions\n",
    "mel = mel.squeeze(0).squeeze(0)\n",
    "\n",
    "# Add a batch dimension\n",
    "mel = mel.unsqueeze(0)\n",
    "\n",
    "# Print mel dimensions for debugging\n",
    "print(\"Modified Mel dimensions:\", mel.shape)\n",
    "\n",
    "# Continue with language detection and decoding\n",
    "probs, _ = model.detect_language(mel)\n",
    "\n",
    "# Assuming languages are ordered based on the model's internal configuration\n",
    "languages = [\"en\", \"es\", \"fr\"]  # Replace with actual language codes\n",
    "\n",
    "# Find the language with the maximum probability\n",
    "max_prob_index = max(range(len(probs)), key=probs.__getitem__)\n",
    "detected_language = languages[max_prob_index]\n",
    "\n",
    "print(f\"Detected language: {detected_language}\")\n"
   ]
  },
  {
   "cell_type": "code",
   "execution_count": 2,
   "id": "784a3c4d",
   "metadata": {},
   "outputs": [],
   "source": [
    "# Decode the audio using the detected language\n",
    "options = whisper.DecodingOptions(language=detected_language, fp16=False)\n",
    "result = whisper.decode(model, mel, options)"
   ]
  },
  {
   "cell_type": "code",
   "execution_count": 3,
   "id": "f88f05d1",
   "metadata": {},
   "outputs": [
    {
     "name": "stdout",
     "output_type": "stream",
     "text": [
      "We are looking at how to pronounce this word. How do you say it? Andrew.\n"
     ]
    }
   ],
   "source": [
    "# Print the recognized text\n",
    "print(result[0].text)"
   ]
  },
  {
   "cell_type": "code",
   "execution_count": 4,
   "id": "ed434273",
   "metadata": {},
   "outputs": [],
   "source": [
    "import os\n",
    "from pydub import AudioSegment\n",
    "\n",
    "# Converting wav files to MP3s\n",
    "def wav_to_mp3(folder_path, output_file):\n",
    "    if(os.path.isdir(folder_path)):\n",
    "        try:\n",
    "            files = os.listdir(folder_path)\n",
    "            for file_name in files:\n",
    "                if(\".wav\" in file_name):\n",
    "                    # Input audio\n",
    "                    input_wav_file = f'{folder_path}/{file_name}'\n",
    "                    audio = AudioSegment.from_wav(input_wav_file)\n",
    "                    \n",
    "                    # Output the audio\n",
    "                    output_mp3_file = f'{output_file}/{file_name[0:-4]}.mp3'\n",
    "                    \n",
    "                    # Export the audio\n",
    "                    audio.export(output_mp3_file, format=\"mp3\")\n",
    "                    print(f\"Conversion from {input_wav_file} to {output_mp3_file} completed.\")\n",
    "        except:\n",
    "            print(f'Ups, theres an error')   \n",
    "    else:\n",
    "        print(\"The provided path is not a directory.\")"
   ]
  },
  {
   "cell_type": "code",
   "execution_count": 5,
   "id": "65b232ca",
   "metadata": {},
   "outputs": [
    {
     "name": "stderr",
     "output_type": "stream",
     "text": [
      "100%|███████████████████████████████████████| 139M/139M [00:16<00:00, 8.88MiB/s]\n"
     ]
    },
    {
     "name": "stdout",
     "output_type": "stream",
     "text": [
      "Output written to mp3s_output.txt\n"
     ]
    }
   ],
   "source": [
    "import os\n",
    "import whisper  # Assuming this is your audio processing library\n",
    "\n",
    "def list_files_in_folder(folder_path):\n",
    "    if os.path.isdir(folder_path):\n",
    "        files = os.listdir(folder_path)\n",
    "        output_file_path = f\"{folder_path.rstrip('/').replace('/', '_')}_output.txt\"\n",
    "\n",
    "        # Open the output file for writing\n",
    "        with open(output_file_path, 'w') as f:\n",
    "            # Write header to the file\n",
    "            f.write(f\"{'File':<32}{'Actual':<15}{'Predicted'}\\n\")\n",
    "            f.write(\"=\"*70 + '\\n')  # Separator line\n",
    "\n",
    "            for file_name in files:\n",
    "                if('.mp3' in file_name or '.wav' in file_name):\n",
    "                    # Load model outside the loop to avoid reloading it for each file\n",
    "                    model = whisper.load_model(\"base\")\n",
    "                    audio = whisper.load_audio(os.path.join(folder_path, file_name))\n",
    "                    audio = whisper.pad_or_trim(audio)\n",
    "                    mel = whisper.log_mel_spectrogram(audio).to(model.device)\n",
    "                    options = whisper.DecodingOptions(language=\"en\", fp16=False)\n",
    "                    result = whisper.decode(model, mel, options)\n",
    "\n",
    "                    # Extract the actual word from the file name\n",
    "                    actual_word = file_name[18:-4]\n",
    "\n",
    "                    # Write formatted output to the file\n",
    "                    f.write(f\"{file_name:<32}{actual_word:<15}{result.text}\\n\")\n",
    "\n",
    "        print(f\"Output written to {output_file_path}\")\n",
    "\n",
    "    else:\n",
    "        print(\"The provided path is not a directory.\")\n",
    "\n",
    "# Replace 'your_folder_path' with the actual path of the folder you want to open\n",
    "folder_path = 'mp3s/' #replace with actual path\n",
    "list_files_in_folder(folder_path)"
   ]
  },
  {
   "cell_type": "code",
   "execution_count": 6,
   "id": "6bc6d6df",
   "metadata": {},
   "outputs": [
    {
     "name": "stdout",
     "output_type": "stream",
     "text": [
      "Separation completed.\n"
     ]
    }
   ],
   "source": [
    "import os\n",
    "import shutil\n",
    "\n",
    "def separate_files(input_folder, output_folder_participant, output_folder_researcher):\n",
    "    # Create output folders if they don't exist\n",
    "    os.makedirs(output_folder_participant, exist_ok=True)\n",
    "    os.makedirs(output_folder_researcher, exist_ok=True)\n",
    "\n",
    "    # Iterate through files in the input folder\n",
    "    for filename in os.listdir(input_folder):\n",
    "        file_path = os.path.join(input_folder, filename)\n",
    "\n",
    "        # Check if the file contains \"participant\" in its name\n",
    "        if \"participant\" in filename.lower():\n",
    "            destination_folder = output_folder_participant\n",
    "        elif \"researcher\" in filename.lower():\n",
    "            destination_folder = output_folder_researcher\n",
    "        else:\n",
    "            # Skip files that don't match the criteria\n",
    "            continue\n",
    "\n",
    "        # Move the file to the appropriate folder\n",
    "        shutil.move(file_path, os.path.join(destination_folder, filename))\n",
    "\n",
    "if __name__ == \"__main__\":\n",
    "    # Replace these paths with your actual paths\n",
    "    input_folder_path = \"mp3s/\"                    #replace with actual paths \n",
    "    participant_output_path = \"kick_ppts_participant/\"\n",
    "    researcher_output_path = \"kick_ppts_researcher/\"\n",
    "\n",
    "    # Call the function to separate files\n",
    "    separate_files(input_folder_path, participant_output_path, researcher_output_path)\n",
    "\n",
    "    print(\"Separation completed.\")"
   ]
  },
  {
   "cell_type": "code",
   "execution_count": 7,
   "id": "9cad9392",
   "metadata": {},
   "outputs": [
    {
     "name": "stdout",
     "output_type": "stream",
     "text": [
      "\n",
      "Output written to mp3s_output.txt\n"
     ]
    }
   ],
   "source": [
    "#wav_to_mp3('EB21_researcher_KT1', 'EB21_researcher_KT1_MP3')\n",
    "print()\n",
    "list_files_in_folder(\"mp3s/\") #replace with actual paths "
   ]
  },
  {
   "cell_type": "code",
   "execution_count": null,
   "id": "e2d0967a",
   "metadata": {},
   "outputs": [],
   "source": []
  },
  {
   "cell_type": "code",
   "execution_count": null,
   "id": "8a5cff78",
   "metadata": {},
   "outputs": [],
   "source": []
  }
 ],
 "metadata": {
  "kernelspec": {
   "display_name": "Python 3 (ipykernel)",
   "language": "python",
   "name": "python3"
  },
  "language_info": {
   "codemirror_mode": {
    "name": "ipython",
    "version": 3
   },
   "file_extension": ".py",
   "mimetype": "text/x-python",
   "name": "python",
   "nbconvert_exporter": "python",
   "pygments_lexer": "ipython3",
   "version": "3.10.1"
  }
 },
 "nbformat": 4,
 "nbformat_minor": 5
}
