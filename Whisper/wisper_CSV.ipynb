{
 "cells": [
  {
   "cell_type": "code",
   "execution_count": 49,
   "id": "d626aba5",
   "metadata": {},
   "outputs": [],
   "source": [
    "# whisper /Users/cogsci-lasrlab1/Downloads/MFA_data/KidTalk/EB21_KT1/K1EB212participant_chick.WAV --model medium\n",
    "# /Users/cogsci-lasrlab1/Desktop/Wisper_Work\n",
    "\n",
    "# Importing Wisper\n",
    "import whisper\n"
   ]
  },
  {
   "cell_type": "code",
   "execution_count": 50,
   "id": "ceefd4e3",
   "metadata": {},
   "outputs": [],
   "source": [
    "# Loading the Model\n",
    "model = whisper.load_model(\"medium\")"
   ]
  },
  {
   "cell_type": "code",
   "execution_count": 51,
   "id": "32c69025",
   "metadata": {},
   "outputs": [],
   "source": [
    "# load audio and pad/trim it to fit 30 seconds\n",
    "audio = whisper.load_audio(\"Andrew.mp3\")\n",
    "audio = whisper.pad_or_trim(audio)"
   ]
  },
  {
   "cell_type": "code",
   "execution_count": 52,
   "id": "c7b73f37",
   "metadata": {},
   "outputs": [],
   "source": [
    "# make log-Mel spectrogram and move to the same device as the model\n",
    "mel = whisper.log_mel_spectrogram(audio).to(model.device)"
   ]
  },
  {
   "cell_type": "code",
   "execution_count": 53,
   "id": "31f6a4a5",
   "metadata": {},
   "outputs": [
    {
     "name": "stdout",
     "output_type": "stream",
     "text": [
      "Detected language: en\n"
     ]
    }
   ],
   "source": [
    "# detect the spoken language\n",
    "_, probs = model.detect_language(mel)\n",
    "print(f\"Detected language: {max(probs, key=probs.get)}\")\n"
   ]
  },
  {
   "cell_type": "code",
   "execution_count": 54,
   "id": "fe54d8cf",
   "metadata": {},
   "outputs": [],
   "source": [
    "# decode the audio\n",
    "options = whisper.DecodingOptions(language=\"en\", fp16=False)\n",
    "result = whisper.decode(model, mel, options)"
   ]
  },
  {
   "cell_type": "code",
   "execution_count": 55,
   "id": "363458a1",
   "metadata": {},
   "outputs": [
    {
     "name": "stdout",
     "output_type": "stream",
     "text": [
      "We are looking at how to pronounce these words. How do you say it? Andrew. Andrew. Andrew.\n"
     ]
    }
   ],
   "source": [
    "# print the recognized text\n",
    "print(result.text)"
   ]
  },
  {
   "cell_type": "code",
   "execution_count": 56,
   "id": "b69136da",
   "metadata": {},
   "outputs": [],
   "source": [
    "import os\n",
    "from pydub import AudioSegment\n",
    "\n",
    "# Converting wav files to MP3s\n",
    "def wav_to_mp3(folder_path, output_file):\n",
    "    if(os.path.isdir(folder_path)):\n",
    "        try:\n",
    "            files = os.listdir(folder_path)\n",
    "            for file_name in files:\n",
    "                if(\".wav\" in file_name):\n",
    "                    # Input audio\n",
    "                    input_wav_file = f'{folder_path}/{file_name}'\n",
    "                    audio = AudioSegment.from_wav(input_wav_file)\n",
    "                    \n",
    "                    # Output the audio\n",
    "                    output_mp3_file = f'{output_file}/{file_name[0:-4]}.mp3'\n",
    "                    \n",
    "                    # Export the audio\n",
    "                    audio.export(output_mp3_file, format=\"mp3\")\n",
    "                    print(f\"Conversion from {input_wav_file} to {output_mp3_file} completed.\")\n",
    "        except:\n",
    "            print(f'Ups, theres an error')   \n",
    "    else:\n",
    "        print(\"The provided path is not a directory.\")"
   ]
  },
  {
   "cell_type": "code",
   "execution_count": 57,
   "id": "cac20f3e",
   "metadata": {},
   "outputs": [
    {
     "name": "stdout",
     "output_type": "stream",
     "text": [
      "Output written to mp3s_output.csv\n"
     ]
    }
   ],
   "source": [
    "import os\n",
    "import whisper  # Assuming this is your audio processing library\n",
    "\n",
    "def list_files_in_folder(folder_path):\n",
    "    if os.path.isdir(folder_path):\n",
    "        files = os.listdir(folder_path)\n",
    "        # CHANGED \n",
    "        output_file_path = f\"{folder_path.rstrip('/').replace('/', '_')}_output.csv\"\n",
    "\n",
    "        # Open the output file for writing\n",
    "        with open(output_file_path, 'w') as f:\n",
    "            # Write header to the file\n",
    "            # f.write(f\"{'File':<32}{'Actual':<15}{'Predicted'}\\n\")\n",
    "            # f.write(\"=\"*70 + '\\n')  # Separator line\n",
    "\n",
    "            # CHANGED \n",
    "            f.write(\"file,actual,predicted\\n\")\n",
    "\n",
    "            for file_name in files:\n",
    "                if('.mp3' in file_name or '.wav' in file_name):\n",
    "                    # Load model outside the loop to avoid reloading it for each file\n",
    "                    model = whisper.load_model(\"base\")\n",
    "                    audio = whisper.load_audio(os.path.join(folder_path, file_name))\n",
    "                    audio = whisper.pad_or_trim(audio)\n",
    "                    mel = whisper.log_mel_spectrogram(audio).to(model.device)\n",
    "                    options = whisper.DecodingOptions(language=\"en\", fp16=False)\n",
    "                    result = whisper.decode(model, mel, options)\n",
    "\n",
    "                    # Extract the actual word from the file name\n",
    "                    actual_word = file_name[18:-4]\n",
    "\n",
    "                    # Write formatted output to the file\n",
    "                    #f.write(f\"{file_name:<32}{actual_word:<15}{result.text}\\n\")\n",
    "                    # CHANGED \n",
    "                    f.write(f'{file_name},{actual_word},{result.text}\\n')\n",
    "\n",
    "        print(f\"Output written to {output_file_path}\")\n",
    "\n",
    "    else:\n",
    "        print(\"The provided path is not a directory.\")\n",
    "\n",
    "# Replace 'your_folder_path' with the actual path of the folder you want to open\n",
    "folder_path = 'mp3s/'\n",
    "list_files_in_folder(folder_path)\n"
   ]
  },
  {
   "cell_type": "code",
   "execution_count": 58,
   "id": "68f456a9",
   "metadata": {
    "scrolled": false
   },
   "outputs": [],
   "source": [
    "# wav_to_mp3('EB21_KT1', 'EB21_KT1_MP3')\n",
    "# print()\n",
    "# list_files_in_folder('EB21_KT1_MP3/')"
   ]
  },
  {
   "cell_type": "code",
   "execution_count": 59,
   "id": "35deb0d4",
   "metadata": {},
   "outputs": [],
   "source": [
    "# wav_to_mp3('EB21_researcher_KT1', 'EB21_researcher_KT1_MP3')\n",
    "# print()\n",
    "# list_files_in_folder('EB21_researcher_KT1_MP3/')"
   ]
  },
  {
   "cell_type": "code",
   "execution_count": 60,
   "id": "c40651f2",
   "metadata": {},
   "outputs": [
    {
     "name": "stdout",
     "output_type": "stream",
     "text": [
      "Separation completed.\n"
     ]
    }
   ],
   "source": [
    "import os\n",
    "import shutil\n",
    "\n",
    "def separate_files(input_folder, output_folder_participant, output_folder_researcher):\n",
    "    # Create output folders if they don't exist\n",
    "    os.makedirs(output_folder_participant, exist_ok=True)\n",
    "    os.makedirs(output_folder_researcher, exist_ok=True)\n",
    "\n",
    "    # Iterate through files in the input folder\n",
    "    for filename in os.listdir(input_folder):\n",
    "        file_path = os.path.join(input_folder, filename)\n",
    "\n",
    "        # Check if the file contains \"participant\" in its name\n",
    "        if \"participant\" in filename.lower():\n",
    "            destination_folder = output_folder_participant\n",
    "        elif \"researcher\" in filename.lower():\n",
    "            destination_folder = output_folder_researcher\n",
    "        else:\n",
    "            # Skip files that don't match the criteria\n",
    "            continue\n",
    "\n",
    "        # Move the file to the appropriate folder\n",
    "        shutil.move(file_path, os.path.join(destination_folder, filename))\n",
    "\n",
    "if __name__ == \"__main__\":\n",
    "    # Replace these paths with your actual paths\n",
    "    input_folder_path = \"mp3s/\"\n",
    "    participant_output_path = \"ship_ppts_participant/\"\n",
    "    researcher_output_path = \"ship_ppts_researcher/\"\n",
    "\n",
    "    # Call the function to separate files\n",
    "    separate_files(input_folder_path, participant_output_path, researcher_output_path)\n",
    "\n",
    "    print(\"Separation completed.\")"
   ]
  },
  {
   "cell_type": "code",
   "execution_count": 61,
   "id": "23aac882",
   "metadata": {
    "scrolled": false
   },
   "outputs": [
    {
     "name": "stdout",
     "output_type": "stream",
     "text": [
      "\n",
      "Output written to mp3s_output.csv\n"
     ]
    }
   ],
   "source": [
    "#wav_to_mp3('EB21_researcher_KT1', 'EB21_researcher_KT1_MP3')\n",
    "print()\n",
    "list_files_in_folder('mp3s/')"
   ]
  },
  {
   "cell_type": "code",
   "execution_count": null,
   "id": "d7f19774",
   "metadata": {},
   "outputs": [],
   "source": []
  },
  {
   "cell_type": "code",
   "execution_count": null,
   "id": "e25ca62b",
   "metadata": {},
   "outputs": [],
   "source": []
  }
 ],
 "metadata": {
  "kernelspec": {
   "display_name": "Python 3 (ipykernel)",
   "language": "python",
   "name": "python3"
  },
  "language_info": {
   "codemirror_mode": {
    "name": "ipython",
    "version": 3
   },
   "file_extension": ".py",
   "mimetype": "text/x-python",
   "name": "python",
   "nbconvert_exporter": "python",
   "pygments_lexer": "ipython3",
   "version": "3.10.1"
  }
 },
 "nbformat": 4,
 "nbformat_minor": 5
}
