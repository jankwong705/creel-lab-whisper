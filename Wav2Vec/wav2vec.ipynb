{
 "cells": [
  {
   "cell_type": "code",
   "execution_count": 11,
   "metadata": {},
   "outputs": [],
   "source": [
    "import librosa\n",
    "import torch\n",
    "from transformers import Wav2Vec2ForCTC, Wav2Vec2Tokenizer"
   ]
  },
  {
   "cell_type": "code",
   "execution_count": null,
   "metadata": {},
   "outputs": [],
   "source": [
    "# Loading audio files\n",
    "audio, rate = librosa.load(\"Andrew.wav\", sr = 16000)"
   ]
  },
  {
   "cell_type": "code",
   "execution_count": null,
   "metadata": {},
   "outputs": [],
   "source": [
    "# Importing Wav2Vec pretrained model\n",
    "tokenizer = Wav2Vec2Tokenizer.from_pretrained(\"facebook/wav2vec2-base-960h\")\n",
    "model = Wav2Vec2ForCTC.from_pretrained(\"facebook/wav2vec2-base-960h\")"
   ]
  },
  {
   "cell_type": "code",
   "execution_count": 16,
   "metadata": {},
   "outputs": [
    {
     "name": "stdout",
     "output_type": "stream",
     "text": [
      "WE ARE LOOKING AT HOW TO PRONOUNCE THESE WORD HOW DO YOU SAY IT ANDREW ANDREW ANDREW\n"
     ]
    }
   ],
   "source": [
    "# Taking an input value\n",
    "input_values = tokenizer(audio, return_tensors = \"pt\").input_values\n",
    "\n",
    "# Storing logits (non-normalized prediction values)\n",
    "logits = model(input_values).logits\n",
    "\n",
    "# Storing predicted ids\n",
    "prediction = torch.argmax(logits, dim = -1)\n",
    "\n",
    "# Passing the prediction to the tokenzer decode to get the transcription\n",
    "transcription = tokenizer.batch_decode(prediction)[0]\n",
    "\n",
    "# Printing the transcription\n",
    "print(transcription)"
   ]
  }
 ],
 "metadata": {
  "kernelspec": {
   "display_name": "Python 3",
   "language": "python",
   "name": "python3"
  },
  "language_info": {
   "codemirror_mode": {
    "name": "ipython",
    "version": 3
   },
   "file_extension": ".py",
   "mimetype": "text/x-python",
   "name": "python",
   "nbconvert_exporter": "python",
   "pygments_lexer": "ipython3",
   "version": "3.10.1"
  }
 },
 "nbformat": 4,
 "nbformat_minor": 2
}
