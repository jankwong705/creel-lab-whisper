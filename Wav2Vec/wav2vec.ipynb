{
 "cells": [
  {
   "cell_type": "code",
   "execution_count": 1,
   "metadata": {},
   "outputs": [
    {
     "name": "stderr",
     "output_type": "stream",
     "text": [
      "/Library/Frameworks/Python.framework/Versions/3.10/lib/python3.10/site-packages/tqdm/auto.py:21: TqdmWarning: IProgress not found. Please update jupyter and ipywidgets. See https://ipywidgets.readthedocs.io/en/stable/user_install.html\n",
      "  from .autonotebook import tqdm as notebook_tqdm\n"
     ]
    }
   ],
   "source": [
    "import librosa\n",
    "import torch\n",
    "from transformers import Wav2Vec2ForCTC, Wav2Vec2Tokenizer\n",
    "import pandas as pd\n",
    "import numpy as np\n",
    "import os"
   ]
  },
  {
   "cell_type": "code",
   "execution_count": 2,
   "metadata": {},
   "outputs": [
    {
     "name": "stderr",
     "output_type": "stream",
     "text": [
      "The tokenizer class you load from this checkpoint is not the same type as the class this function is called from. It may result in unexpected tokenization. \n",
      "The tokenizer class you load from this checkpoint is 'Wav2Vec2CTCTokenizer'. \n",
      "The class this function is called from is 'Wav2Vec2Tokenizer'.\n",
      "/Library/Frameworks/Python.framework/Versions/3.10/lib/python3.10/site-packages/transformers/models/wav2vec2/tokenization_wav2vec2.py:733: FutureWarning: The class `Wav2Vec2Tokenizer` is deprecated and will be removed in version 5 of Transformers. Please use `Wav2Vec2Processor` or `Wav2Vec2CTCTokenizer` instead.\n",
      "  warnings.warn(\n",
      "Some weights of the model checkpoint at facebook/wav2vec2-base-960h were not used when initializing Wav2Vec2ForCTC: ['wav2vec2.encoder.pos_conv_embed.conv.weight_g', 'wav2vec2.encoder.pos_conv_embed.conv.weight_v']\n",
      "- This IS expected if you are initializing Wav2Vec2ForCTC from the checkpoint of a model trained on another task or with another architecture (e.g. initializing a BertForSequenceClassification model from a BertForPreTraining model).\n",
      "- This IS NOT expected if you are initializing Wav2Vec2ForCTC from the checkpoint of a model that you expect to be exactly identical (initializing a BertForSequenceClassification model from a BertForSequenceClassification model).\n",
      "Some weights of Wav2Vec2ForCTC were not initialized from the model checkpoint at facebook/wav2vec2-base-960h and are newly initialized: ['wav2vec2.encoder.pos_conv_embed.conv.parametrizations.weight.original0', 'wav2vec2.encoder.pos_conv_embed.conv.parametrizations.weight.original1', 'wav2vec2.masked_spec_embed']\n",
      "You should probably TRAIN this model on a down-stream task to be able to use it for predictions and inference.\n"
     ]
    }
   ],
   "source": [
    "# Loading Wav2Vec pretrained model\n",
    "tokenizer = Wav2Vec2Tokenizer.from_pretrained(\"facebook/wav2vec2-base-960h\")\n",
    "model = Wav2Vec2ForCTC.from_pretrained(\"facebook/wav2vec2-base-960h\")"
   ]
  },
  {
   "cell_type": "code",
   "execution_count": 3,
   "metadata": {},
   "outputs": [],
   "source": [
    "def load_audio(filename, sample_rate=16000):\n",
    "    audio, rate = librosa.load(filename, sr = sample_rate)\n",
    "    return audio"
   ]
  },
  {
   "cell_type": "code",
   "execution_count": 4,
   "metadata": {},
   "outputs": [],
   "source": [
    "def transcribe_each(audio):\n",
    "    # Taking an input value\n",
    "    input_values = tokenizer(audio, return_tensors = \"pt\").input_values\n",
    "\n",
    "    # Storing logits (non-normalized prediction values)\n",
    "    logits = model(input_values).logits\n",
    "\n",
    "    # Storing predicted ids\n",
    "    prediction = torch.argmax(logits, dim = -1)\n",
    "\n",
    "    # Passing the prediction to the tokenzer decode to get the transcription\n",
    "    transcription = tokenizer.batch_decode(prediction)[0]\n",
    "    \n",
    "    return transcription"
   ]
  },
  {
   "cell_type": "code",
   "execution_count": 5,
   "metadata": {},
   "outputs": [],
   "source": [
    "def transcribe(input_folder, output_excel):\n",
    "    # List audio files in input folder\n",
    "    audio_files = os.listdir(input_folder)\n",
    "\n",
    "    # Extract actual word\n",
    "    actual = input_folder[0:input_folder.rfind('_')]    ## ADJUST AS NEEDED \n",
    "\n",
    "    # Create empty datadrame\n",
    "    df = pd.DataFrame(columns=['File', 'Actual', 'Predicted'])\n",
    "    files = []\n",
    "    actuals = []\n",
    "    predicted = []\n",
    "\n",
    "    for audio_file in audio_files:\n",
    "        input_audio_file = os.path.join(input_folder, audio_file)\n",
    "\n",
    "        # Check if it's a wav file (not a folder)\n",
    "        if os.path.isfile(input_audio_file) and \".wav\" in input_audio_file:\n",
    "\n",
    "            # Transcribe .wav files \n",
    "            audio = load_audio(input_audio_file)\n",
    "            transcription_each = transcribe_each(audio)\n",
    "            files.append(input_audio_file)\n",
    "            actuals.append(actual)\n",
    "            predicted.append(transcription_each)\n",
    "\n",
    "    # Write to excel file \n",
    "    df['File'] = files\n",
    "    df['Actual'] = actuals\n",
    "    df['Predicted'] = predicted\n",
    "    df.to_excel(output_excel)"
   ]
  },
  {
   "cell_type": "code",
   "execution_count": 6,
   "metadata": {},
   "outputs": [],
   "source": [
    "transcribe(\"andrew_wavs\", \"test.xlsx\")"
   ]
  }
 ],
 "metadata": {
  "kernelspec": {
   "display_name": "Python 3",
   "language": "python",
   "name": "python3"
  },
  "language_info": {
   "codemirror_mode": {
    "name": "ipython",
    "version": 3
   },
   "file_extension": ".py",
   "mimetype": "text/x-python",
   "name": "python",
   "nbconvert_exporter": "python",
   "pygments_lexer": "ipython3",
   "version": "3.10.1"
  }
 },
 "nbformat": 4,
 "nbformat_minor": 2
}
